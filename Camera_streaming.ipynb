{
 "cells": [
  {
   "cell_type": "markdown",
   "metadata": {},
   "source": [
    "# CDD Streaming"
   ]
  },
  {
   "cell_type": "code",
   "execution_count": 18,
   "metadata": {},
   "outputs": [
    {
     "name": "stdout",
     "output_type": "stream",
     "text": [
      "^C\n",
      "\u001b[31mERROR: Operation cancelled by user\u001b[0m\u001b[31m\n",
      "\u001b[0m"
     ]
    }
   ],
   "source": [
    "!pip3 install opencv-python  > /dev/null\n",
    "!pip3 install albumentations > /dev/null"
   ]
  },
  {
   "cell_type": "code",
   "execution_count": null,
   "metadata": {},
   "outputs": [
    {
     "ename": "KeyboardInterrupt",
     "evalue": "",
     "output_type": "error",
     "traceback": [
      "\u001b[0;31m---------------------------------------------------------------------------\u001b[0m",
      "\u001b[0;31mKeyboardInterrupt\u001b[0m                         Traceback (most recent call last)",
      "\u001b[0;32m<ipython-input-1-aa0ad0e564c0>\u001b[0m in \u001b[0;36m<module>\u001b[0;34m\u001b[0m\n\u001b[1;32m     56\u001b[0m     \u001b[0mcv\u001b[0m\u001b[0;34m.\u001b[0m\u001b[0mdestroyAllWindows\u001b[0m\u001b[0;34m(\u001b[0m\u001b[0;34m)\u001b[0m\u001b[0;34m\u001b[0m\u001b[0;34m\u001b[0m\u001b[0m\n\u001b[1;32m     57\u001b[0m \u001b[0;34m\u001b[0m\u001b[0m\n\u001b[0;32m---> 58\u001b[0;31m \u001b[0mshow_webcam\u001b[0m\u001b[0;34m(\u001b[0m\u001b[0mmirror\u001b[0m\u001b[0;34m=\u001b[0m\u001b[0;32mTrue\u001b[0m\u001b[0;34m)\u001b[0m\u001b[0;34m\u001b[0m\u001b[0;34m\u001b[0m\u001b[0m\n\u001b[0m",
      "\u001b[0;32m<ipython-input-1-aa0ad0e564c0>\u001b[0m in \u001b[0;36mshow_webcam\u001b[0;34m(mirror)\u001b[0m\n\u001b[1;32m     52\u001b[0m \u001b[0;34m\u001b[0m\u001b[0m\n\u001b[1;32m     53\u001b[0m         \u001b[0mcv\u001b[0m\u001b[0;34m.\u001b[0m\u001b[0mimshow\u001b[0m\u001b[0;34m(\u001b[0m\u001b[0;34m'my webcam'\u001b[0m\u001b[0;34m,\u001b[0m \u001b[0mimg\u001b[0m\u001b[0;34m)\u001b[0m\u001b[0;34m\u001b[0m\u001b[0;34m\u001b[0m\u001b[0m\n\u001b[0;32m---> 54\u001b[0;31m         \u001b[0;32mif\u001b[0m \u001b[0mcv\u001b[0m\u001b[0;34m.\u001b[0m\u001b[0mwaitKey\u001b[0m\u001b[0;34m(\u001b[0m\u001b[0;36m1\u001b[0m\u001b[0;34m)\u001b[0m \u001b[0;34m==\u001b[0m \u001b[0;36m27\u001b[0m\u001b[0;34m:\u001b[0m\u001b[0;34m\u001b[0m\u001b[0;34m\u001b[0m\u001b[0m\n\u001b[0m\u001b[1;32m     55\u001b[0m             \u001b[0;32mbreak\u001b[0m  \u001b[0;31m# esc to quit\u001b[0m\u001b[0;34m\u001b[0m\u001b[0;34m\u001b[0m\u001b[0m\n\u001b[1;32m     56\u001b[0m     \u001b[0mcv\u001b[0m\u001b[0;34m.\u001b[0m\u001b[0mdestroyAllWindows\u001b[0m\u001b[0;34m(\u001b[0m\u001b[0;34m)\u001b[0m\u001b[0;34m\u001b[0m\u001b[0;34m\u001b[0m\u001b[0m\n",
      "\u001b[0;31mKeyboardInterrupt\u001b[0m: "
     ]
    }
   ],
   "source": [
    "import cv2 as cv\n",
    "import albumentations as a\n",
    "\n",
    "\n",
    "def get_training_augmentation(_src, _bboxes, _category_id, _size):\n",
    "    transform = a.Compose([a.Resize(_size[0], _size[1])], bbox_params=a.BboxParams(format='coco', label_fields=['category_id']))\n",
    "    return transform(image=_src, bboxes=_bboxes, category_id=_category_id)['bboxes']\n",
    "\n",
    "\n",
    "# BGR\n",
    "BOX_COLOR = (0, 0, 225) # Red\n",
    "BOX_THICKESS = 5\n",
    "TEXT_COLOR = (255, 255, 255) # White\n",
    "TEXT_SIZE = 0.9\n",
    "TEXT_FONT = 0\n",
    "IMG_SIZE = (200, 200)\n",
    "\n",
    "category_id_to_name = { 1: \"dent\", 2: \"broken_glass\", 3: \"deflated_wheel\", 4: \"scratch\", 5: \"broken_headlight\"}\n",
    "\n",
    "def show_webcam(mirror=False):\n",
    "    cam = cv.VideoCapture(0)\n",
    "    for fps in range(5000):\n",
    "        _, img = cam.read()\n",
    "        #img = cv.resize(img, (round(200+fps), round(200+fps)))\n",
    "        size = img.shape\n",
    "\n",
    "##########\n",
    "###Back###\n",
    "##########\n",
    "        img_crop = cv.resize(img, IMG_SIZE)\n",
    "        #########################################################\n",
    "        # bbox, category_id = model.detect(img_crop) \n",
    "        bbox = [10, 10, 150, 150]\n",
    "        category_id = [1]\n",
    "        #########################################################\n",
    "        transformed_bboxes = get_training_augmentation( img_crop,       \\\n",
    "                                                        [bbox],         \\\n",
    "                                                        [category_id],  \\\n",
    "                                                        size            \\\n",
    "                                                        )\n",
    "##########\n",
    "###Back###\n",
    "##########\n",
    "\n",
    "        if mirror: \n",
    "            img = cv.flip(img, 1)\n",
    "\n",
    "        for left, top, right, bottom in transformed_bboxes:\n",
    "            left, top, right, bottom = int(left), int(top), int(right), int(bottom)\n",
    "            cv.rectangle(img,(left,top),(right, bottom), BOX_COLOR, BOX_THICKESS)\n",
    "            cv.putText(img, category_id_to_name.get(category_id[0]), (right+10, bottom), TEXT_FONT, TEXT_SIZE, TEXT_COLOR)\n",
    "\n",
    "        cv.imshow('my webcam', img)\n",
    "        if cv.waitKey(1) == 27: \n",
    "            break  # esc to quit\n",
    "    cv.destroyAllWindows()\n",
    "\n",
    "show_webcam(mirror=True)"
   ]
  },
  {
   "cell_type": "markdown",
   "metadata": {},
   "source": [
    "# Face Detection Streaming"
   ]
  },
  {
   "cell_type": "code",
   "execution_count": null,
   "metadata": {},
   "outputs": [],
   "source": [
    "!pip3 install dlib             > /dev/null\n",
    "!pip3 install face_recognition > /dev/null\n",
    "!pip3 install opencv-python    > /dev/null"
   ]
  },
  {
   "cell_type": "code",
   "execution_count": null,
   "metadata": {},
   "outputs": [
    {
     "name": "stdout",
     "output_type": "stream",
     "text": [
      "<module 'face_recognition' from '/Users/alexgiving/opt/anaconda3/lib/python3.8/site-packages/face_recognition/__init__.py'>\n"
     ]
    }
   ],
   "source": [
    "import face_recognition"
   ]
  },
  {
   "cell_type": "code",
   "execution_count": null,
   "metadata": {},
   "outputs": [
    {
     "ename": "KeyboardInterrupt",
     "evalue": "",
     "output_type": "error",
     "traceback": [
      "\u001b[0;31m---------------------------------------------------------------------------\u001b[0m",
      "\u001b[0;31mKeyboardInterrupt\u001b[0m                         Traceback (most recent call last)",
      "\u001b[0;32m<ipython-input-3-5f4d57309392>\u001b[0m in \u001b[0;36m<module>\u001b[0;34m\u001b[0m\n\u001b[1;32m     19\u001b[0m     \u001b[0mrgb_frame\u001b[0m \u001b[0;34m=\u001b[0m \u001b[0mframe\u001b[0m\u001b[0;34m[\u001b[0m\u001b[0;34m:\u001b[0m\u001b[0;34m,\u001b[0m \u001b[0;34m:\u001b[0m\u001b[0;34m,\u001b[0m \u001b[0;34m:\u001b[0m\u001b[0;34m:\u001b[0m\u001b[0;34m-\u001b[0m\u001b[0;36m1\u001b[0m\u001b[0;34m]\u001b[0m  \u001b[0;31m# to RGB\u001b[0m\u001b[0;34m\u001b[0m\u001b[0;34m\u001b[0m\u001b[0m\n\u001b[1;32m     20\u001b[0m \u001b[0;34m\u001b[0m\u001b[0m\n\u001b[0;32m---> 21\u001b[0;31m     \u001b[0mface_locations\u001b[0m \u001b[0;34m=\u001b[0m \u001b[0mface_recognition\u001b[0m\u001b[0;34m.\u001b[0m\u001b[0mface_locations\u001b[0m\u001b[0;34m(\u001b[0m\u001b[0mrgb_frame\u001b[0m\u001b[0;34m)\u001b[0m\u001b[0;34m\u001b[0m\u001b[0;34m\u001b[0m\u001b[0m\n\u001b[0m\u001b[1;32m     22\u001b[0m \u001b[0;34m\u001b[0m\u001b[0m\n\u001b[1;32m     23\u001b[0m     \u001b[0;32mfor\u001b[0m \u001b[0mtop\u001b[0m\u001b[0;34m,\u001b[0m \u001b[0mright\u001b[0m\u001b[0;34m,\u001b[0m \u001b[0mbottom\u001b[0m\u001b[0;34m,\u001b[0m \u001b[0mleft\u001b[0m \u001b[0;32min\u001b[0m \u001b[0mface_locations\u001b[0m\u001b[0;34m:\u001b[0m\u001b[0;34m\u001b[0m\u001b[0;34m\u001b[0m\u001b[0m\n",
      "\u001b[0;32m~/opt/anaconda3/lib/python3.8/site-packages/face_recognition/api.py\u001b[0m in \u001b[0;36mface_locations\u001b[0;34m(img, number_of_times_to_upsample, model)\u001b[0m\n\u001b[1;32m    119\u001b[0m         \u001b[0;32mreturn\u001b[0m \u001b[0;34m[\u001b[0m\u001b[0m_trim_css_to_bounds\u001b[0m\u001b[0;34m(\u001b[0m\u001b[0m_rect_to_css\u001b[0m\u001b[0;34m(\u001b[0m\u001b[0mface\u001b[0m\u001b[0;34m.\u001b[0m\u001b[0mrect\u001b[0m\u001b[0;34m)\u001b[0m\u001b[0;34m,\u001b[0m \u001b[0mimg\u001b[0m\u001b[0;34m.\u001b[0m\u001b[0mshape\u001b[0m\u001b[0;34m)\u001b[0m \u001b[0;32mfor\u001b[0m \u001b[0mface\u001b[0m \u001b[0;32min\u001b[0m \u001b[0m_raw_face_locations\u001b[0m\u001b[0;34m(\u001b[0m\u001b[0mimg\u001b[0m\u001b[0;34m,\u001b[0m \u001b[0mnumber_of_times_to_upsample\u001b[0m\u001b[0;34m,\u001b[0m \u001b[0;34m\"cnn\"\u001b[0m\u001b[0;34m)\u001b[0m\u001b[0;34m]\u001b[0m\u001b[0;34m\u001b[0m\u001b[0;34m\u001b[0m\u001b[0m\n\u001b[1;32m    120\u001b[0m     \u001b[0;32melse\u001b[0m\u001b[0;34m:\u001b[0m\u001b[0;34m\u001b[0m\u001b[0;34m\u001b[0m\u001b[0m\n\u001b[0;32m--> 121\u001b[0;31m         \u001b[0;32mreturn\u001b[0m \u001b[0;34m[\u001b[0m\u001b[0m_trim_css_to_bounds\u001b[0m\u001b[0;34m(\u001b[0m\u001b[0m_rect_to_css\u001b[0m\u001b[0;34m(\u001b[0m\u001b[0mface\u001b[0m\u001b[0;34m)\u001b[0m\u001b[0;34m,\u001b[0m \u001b[0mimg\u001b[0m\u001b[0;34m.\u001b[0m\u001b[0mshape\u001b[0m\u001b[0;34m)\u001b[0m \u001b[0;32mfor\u001b[0m \u001b[0mface\u001b[0m \u001b[0;32min\u001b[0m \u001b[0m_raw_face_locations\u001b[0m\u001b[0;34m(\u001b[0m\u001b[0mimg\u001b[0m\u001b[0;34m,\u001b[0m \u001b[0mnumber_of_times_to_upsample\u001b[0m\u001b[0;34m,\u001b[0m \u001b[0mmodel\u001b[0m\u001b[0;34m)\u001b[0m\u001b[0;34m]\u001b[0m\u001b[0;34m\u001b[0m\u001b[0;34m\u001b[0m\u001b[0m\n\u001b[0m\u001b[1;32m    122\u001b[0m \u001b[0;34m\u001b[0m\u001b[0m\n\u001b[1;32m    123\u001b[0m \u001b[0;34m\u001b[0m\u001b[0m\n",
      "\u001b[0;32m~/opt/anaconda3/lib/python3.8/site-packages/face_recognition/api.py\u001b[0m in \u001b[0;36m_raw_face_locations\u001b[0;34m(img, number_of_times_to_upsample, model)\u001b[0m\n\u001b[1;32m    103\u001b[0m         \u001b[0;32mreturn\u001b[0m \u001b[0mcnn_face_detector\u001b[0m\u001b[0;34m(\u001b[0m\u001b[0mimg\u001b[0m\u001b[0;34m,\u001b[0m \u001b[0mnumber_of_times_to_upsample\u001b[0m\u001b[0;34m)\u001b[0m\u001b[0;34m\u001b[0m\u001b[0;34m\u001b[0m\u001b[0m\n\u001b[1;32m    104\u001b[0m     \u001b[0;32melse\u001b[0m\u001b[0;34m:\u001b[0m\u001b[0;34m\u001b[0m\u001b[0;34m\u001b[0m\u001b[0m\n\u001b[0;32m--> 105\u001b[0;31m         \u001b[0;32mreturn\u001b[0m \u001b[0mface_detector\u001b[0m\u001b[0;34m(\u001b[0m\u001b[0mimg\u001b[0m\u001b[0;34m,\u001b[0m \u001b[0mnumber_of_times_to_upsample\u001b[0m\u001b[0;34m)\u001b[0m\u001b[0;34m\u001b[0m\u001b[0;34m\u001b[0m\u001b[0m\n\u001b[0m\u001b[1;32m    106\u001b[0m \u001b[0;34m\u001b[0m\u001b[0m\n\u001b[1;32m    107\u001b[0m \u001b[0;34m\u001b[0m\u001b[0m\n",
      "\u001b[0;31mKeyboardInterrupt\u001b[0m: "
     ]
    }
   ],
   "source": [
    "# import libraries\n",
    "import cv2 as cv\n",
    "import face_recognition\n",
    "\n",
    "BOX_COLOR = (0, 0, 225) # Red\n",
    "BOX_THICKESS = 2\n",
    "TEXT_COLOR = (255, 255, 255) # White\n",
    "TEXT_SIZE = 0.9\n",
    "TEXT_FONT = 0\n",
    "IMG_SIZE = (200, 200)\n",
    "\n",
    "\n",
    "video_capture = cv.VideoCapture(0)\n",
    "face_locations = []\n",
    " \n",
    "for fps in range(500):\n",
    "    ret, frame = video_capture.read()\n",
    "    frame = cv.flip(frame, 1)      # mirror\n",
    "    rgb_frame = frame[:, :, ::-1]  # to RGB\n",
    "\n",
    "    face_locations = face_recognition.face_locations(rgb_frame)\n",
    "    \n",
    "    for top, right, bottom, left in face_locations:\n",
    "        cv.rectangle(frame, (left, top), (right, bottom), BOX_COLOR, BOX_THICKESS)\n",
    "        cv.putText(frame, \"dolboeb\", (right+10, bottom), TEXT_FONT, TEXT_SIZE, TEXT_COLOR)\n",
    "\n",
    "\n",
    "    cv.imshow('Video', frame)      \n",
    "    if cv.waitKey(1) == 27: \n",
    "        break  # esc to quit\n",
    " \n",
    "video_capture.release()\n",
    "cv.destroyAllWindows()"
   ]
  },
  {
   "cell_type": "markdown",
   "metadata": {},
   "source": [
    "# Car Detection Streaming"
   ]
  },
  {
   "cell_type": "code",
   "execution_count": 3,
   "metadata": {},
   "outputs": [],
   "source": [
    "BOX_COLOR = (0, 0, 225) # Red\n",
    "BOX_THICKESS = 2\n",
    "TEXT_COLOR = (255, 255, 255) # White\n",
    "TEXT_SIZE = 0.9\n",
    "TEXT_FONT = 0\n",
    "IMG_SIZE = (200, 200)"
   ]
  },
  {
   "cell_type": "code",
   "execution_count": 4,
   "metadata": {},
   "outputs": [],
   "source": [
    "import numpy as np\n",
    "from PIL import Image\n",
    "\n",
    "def tensor_to_image(tensor):\n",
    "    tensor = tensor*255\n",
    "    tensor = np.array(tensor, dtype=np.uint8)\n",
    "    if np.ndim(tensor)>3:\n",
    "        assert tensor.shape[0] == 1\n",
    "        tensor = tensor[0]\n",
    "    return Image.fromarray(tensor)"
   ]
  },
  {
   "cell_type": "code",
   "execution_count": 5,
   "metadata": {},
   "outputs": [],
   "source": [
    "from torchvision import transforms as T\n",
    "\n",
    "def get_transform(src, train):\n",
    "    transforms = []\n",
    "    # converts the image, a PIL image, into a PyTorch Tensor\n",
    "    transforms.append(T.ToTensor())\n",
    "    if train:\n",
    "        # during training, randomly flip the training images\n",
    "        # and ground-truth for data augmentation\n",
    "        transforms.append(T.RandomHorizontalFlip(0.5))\n",
    "    transform = T.Compose(transforms)\n",
    "    return transform(image=src)"
   ]
  },
  {
   "cell_type": "code",
   "execution_count": 6,
   "metadata": {},
   "outputs": [],
   "source": [
    "import cv2 as cv\n",
    "import torch\n",
    "import torch.utils.data\n",
    "\n",
    "device = torch.device('cuda') if torch.cuda.is_available() else torch.device('cpu')\n",
    "\n",
    "\n",
    "PATH = \"model_70.pt\"\n",
    "model = torch.load(PATH, map_location='cpu')\n",
    "model.eval()\n",
    "\n",
    "cam = cv.VideoCapture(\"car.jpeg\")\n",
    "ret, frame = cam.read()\n",
    "assert(ret)\n"
   ]
  },
  {
   "cell_type": "code",
   "execution_count": 7,
   "metadata": {},
   "outputs": [],
   "source": [
    "img_ = torch.tensor(frame)\n",
    "img = tensor_to_image(img_)\n",
    "\n",
    "transform = T.Compose([T.ToTensor()])\n",
    "img_T = transform(img)"
   ]
  },
  {
   "cell_type": "code",
   "execution_count": 8,
   "metadata": {},
   "outputs": [],
   "source": [
    "with torch.no_grad():\n",
    "    prediction = model([img_T])"
   ]
  },
  {
   "cell_type": "code",
   "execution_count": null,
   "metadata": {},
   "outputs": [
    {
     "ename": "NameError",
     "evalue": "name 'prediction' is not defined",
     "output_type": "error",
     "traceback": [
      "\u001b[0;31m---------------------------------------------------------------------------\u001b[0m",
      "\u001b[0;31mNameError\u001b[0m                                 Traceback (most recent call last)",
      "\u001b[0;32m<ipython-input-2-7f9164bb4479>\u001b[0m in \u001b[0;36m<module>\u001b[0;34m\u001b[0m\n\u001b[0;32m----> 1\u001b[0;31m \u001b[0mprediction\u001b[0m\u001b[0;34m[\u001b[0m\u001b[0;36m0\u001b[0m\u001b[0;34m]\u001b[0m\u001b[0;34m[\u001b[0m\u001b[0;34m'boxes'\u001b[0m\u001b[0;34m]\u001b[0m\u001b[0;34m\u001b[0m\u001b[0;34m\u001b[0m\u001b[0m\n\u001b[0m",
      "\u001b[0;31mNameError\u001b[0m: name 'prediction' is not defined"
     ]
    }
   ],
   "source": [
    "prediction[0]['boxes']"
   ]
  },
  {
   "cell_type": "code",
   "execution_count": null,
   "metadata": {},
   "outputs": [
    {
     "ename": "NameError",
     "evalue": "name 'prediction' is not defined",
     "output_type": "error",
     "traceback": [
      "\u001b[0;31m---------------------------------------------------------------------------\u001b[0m",
      "\u001b[0;31mNameError\u001b[0m                                 Traceback (most recent call last)",
      "\u001b[0;32m<ipython-input-1-6c0dd02dd5ca>\u001b[0m in \u001b[0;36m<module>\u001b[0;34m\u001b[0m\n\u001b[0;32m----> 1\u001b[0;31m \u001b[0;32mfor\u001b[0m \u001b[0mtop\u001b[0m\u001b[0;34m,\u001b[0m \u001b[0mright\u001b[0m\u001b[0;34m,\u001b[0m \u001b[0mbottom\u001b[0m\u001b[0;34m,\u001b[0m \u001b[0mleft\u001b[0m \u001b[0;32min\u001b[0m \u001b[0mprediction\u001b[0m\u001b[0;34m[\u001b[0m\u001b[0;36m0\u001b[0m\u001b[0;34m]\u001b[0m\u001b[0;34m[\u001b[0m\u001b[0;34m'boxes'\u001b[0m\u001b[0;34m]\u001b[0m\u001b[0;34m:\u001b[0m\u001b[0;34m\u001b[0m\u001b[0;34m\u001b[0m\u001b[0m\n\u001b[0m\u001b[1;32m      2\u001b[0m     \u001b[0mprint\u001b[0m\u001b[0;34m(\u001b[0m\u001b[0mtop\u001b[0m\u001b[0;34m,\u001b[0m \u001b[0mright\u001b[0m\u001b[0;34m,\u001b[0m \u001b[0mbottom\u001b[0m\u001b[0;34m,\u001b[0m \u001b[0mleft\u001b[0m\u001b[0;34m)\u001b[0m\u001b[0;34m\u001b[0m\u001b[0;34m\u001b[0m\u001b[0m\n",
      "\u001b[0;31mNameError\u001b[0m: name 'prediction' is not defined"
     ]
    }
   ],
   "source": [
    "for top, right, bottom, left in prediction[0]['boxes']:\n",
    "    print(top, right, bottom, left)"
   ]
  },
  {
   "cell_type": "code",
   "execution_count": null,
   "metadata": {},
   "outputs": [],
   "source": [
    "for top, right, bottom, left in prediction[0]['boxes']:\n",
    "    top = int(top)\n",
    "    right = int(right)\n",
    "    bottom = int(bottom)\n",
    "    left = int(left)\n",
    "    cv.rectangle(frame, (left, top), (right, bottom), BOX_COLOR, BOX_THICKESS)\n",
    "    cv.putText(frame, \"dolboeb\", (right+10, bottom), TEXT_FONT, TEXT_SIZE, TEXT_COLOR)\n"
   ]
  },
  {
   "cell_type": "code",
   "execution_count": 88,
   "metadata": {},
   "outputs": [],
   "source": [
    "cv.imshow('graycsale image',frame)\n",
    "cv.waitKey(0)\n",
    "cv.destroyAllWindows()"
   ]
  },
  {
   "cell_type": "code",
   "execution_count": null,
   "metadata": {},
   "outputs": [],
   "source": [
    "#cv.imshow('graycsale image',frame)\n",
    "#cv.waitKey(0)\n",
    "#cv.destroyAllWindows()"
   ]
  },
  {
   "cell_type": "markdown",
   "metadata": {},
   "source": [
    "# Master"
   ]
  },
  {
   "cell_type": "markdown",
   "metadata": {},
   "source": [
    "import cv2 as cv\n",
    "import albumentations as a\n",
    "\n",
    "\n",
    "def get_training_augmentation(_src, _bboxes, _category_id, _size):\n",
    "    transform = a.Compose([a.Resize(_size[0], _size[1])], bbox_params=a.BboxParams(format='coco', label_fields=['category_id']))\n",
    "    return transform(image=_src, bboxes=_bboxes, category_id=_category_id)['bboxes']\n",
    "\n",
    "\n",
    "# BGR\n",
    "BOX_COLOR = (0, 0, 225) # Red\n",
    "BOX_THICKESS = 5\n",
    "TEXT_COLOR = (255, 255, 255) # White\n",
    "TEXT_SIZE = 0.9\n",
    "TEXT_FONT = 0\n",
    "IMG_SIZE = (200, 200)\n",
    "\n",
    "category_id_to_name = { 1: \"dent\", 2: \"broken_glass\", 3: \"deflated_wheel\", 4: \"scratch\", 5: \"broken_headlight\"}\n",
    "\n",
    "def show_webcam(mirror=False):\n",
    "    cam = cv.VideoCapture(0)\n",
    "    for fps in range(5000):\n",
    "        _, img = cam.read()\n",
    "        #img = cv.resize(img, (round(200+fps), round(200+fps)))\n",
    "        size = img.shape\n",
    "\n",
    "##########\n",
    "###Back###\n",
    "##########\n",
    "        img_crop = cv.resize(img, IMG_SIZE)\n",
    "        #########################################################\n",
    "        # bbox, category_id = model.detect(img_crop) \n",
    "        bbox = [10, 10, 150, 150]\n",
    "        category_id = [1]\n",
    "        #########################################################\n",
    "        transformed_bboxes = get_training_augmentation( img_crop,       \\\n",
    "                                                        [bbox],         \\\n",
    "                                                        [category_id],  \\\n",
    "                                                        size            \\\n",
    "                                                        )\n",
    "##########\n",
    "###Back###\n",
    "##########\n",
    "\n",
    "        if mirror: \n",
    "            img = cv.flip(img, 1)\n",
    "\n",
    "        for left, top, right, bottom in transformed_bboxes:\n",
    "            left, top, right, bottom = int(left), int(top), int(right), int(bottom)\n",
    "            cv.rectangle(img,(left,top),(right, bottom), BOX_COLOR, BOX_THICKESS)\n",
    "            cv.putText(img, category_id_to_name.get(category_id[0]), (right+10, bottom), TEXT_FONT, TEXT_SIZE, TEXT_COLOR)\n",
    "\n",
    "        cv.imshow('my webcam', img)\n",
    "        if cv.waitKey(1) == 27: \n",
    "            break  # esc to quit\n",
    "    cv.destroyAllWindows()\n",
    "\n",
    "show_webcam(mirror=True)"
   ]
  }
 ],
 "metadata": {
  "interpreter": {
   "hash": "dbc59c1602769476583de30dcfaf94a717f95996dfb09063277734c10faa726c"
  },
  "kernelspec": {
   "display_name": "Python 3.8.8 ('base')",
   "language": "python",
   "name": "python3"
  },
  "language_info": {
   "codemirror_mode": {
    "name": "ipython",
    "version": 3
   },
   "file_extension": ".py",
   "mimetype": "text/x-python",
   "name": "python",
   "nbconvert_exporter": "python",
   "pygments_lexer": "ipython3",
   "version": "3.8.8"
  },
  "orig_nbformat": 4
 },
 "nbformat": 4,
 "nbformat_minor": 2
}
